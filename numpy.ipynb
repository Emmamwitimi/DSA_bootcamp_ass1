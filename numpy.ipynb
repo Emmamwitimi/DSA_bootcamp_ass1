{
 "cells": [
  {
   "cell_type": "code",
   "execution_count": 5,
   "id": "d6cacdd5",
   "metadata": {},
   "outputs": [
    {
     "name": "stdout",
     "output_type": "stream",
     "text": [
      "array('i', [1, 2, 3])\n",
      "new created array1/r\n",
      "2/r\n",
      "3/r\n"
     ]
    }
   ],
   "source": [
    "import array\n",
    "arr=array.array(\"i\",[1,2,3])\n",
    "print(arr)\n",
    "print(\"new created array\",end=\"\")\n",
    "for i in range(0,3):\n",
    "    \n",
    "    print(arr[i],end=\"\")\n",
    "    print(\"/r\")\n",
    "    "
   ]
  },
  {
   "cell_type": "code",
   "execution_count": 28,
   "id": "a16c56e6",
   "metadata": {},
   "outputs": [
    {
     "name": "stdout",
     "output_type": "stream",
     "text": [
      "4\n"
     ]
    }
   ],
   "source": [
    "import numpy as np\n",
    "arr=np.array([1,2,3])\n",
    "print(arr)"
   ]
  },
  {
   "cell_type": "code",
   "execution_count": 8,
   "id": "d0e92589",
   "metadata": {},
   "outputs": [
    {
     "name": "stdout",
     "output_type": "stream",
     "text": [
      "[0 0]\n"
     ]
    }
   ],
   "source": [
    "import numpy as np\n",
    "new_arr=np.empty(2,dtype=int)\n",
    "print(new_arr)"
   ]
  },
  {
   "cell_type": "code",
   "execution_count": 9,
   "id": "6e4463e8",
   "metadata": {},
   "outputs": [
    {
     "name": "stdout",
     "output_type": "stream",
     "text": [
      "Matrix b : \n",
      " [1065353216 1065353216]\n",
      "\n",
      "Matrix a : \n",
      " [[-1772708572  -736895047]\n",
      " [    2336275   747308132]]\n",
      "\n",
      "Matrix c : \n",
      " [[4.67296746e-307 1.69121096e-306 1.29061685e-306]\n",
      " [1.89146896e-307 7.56571288e-307 3.11525958e-307]\n",
      " [1.24610723e-306 1.29061142e-306 5.53353523e-322]]\n"
     ]
    }
   ],
   "source": [
    "# Python Programming illustrating\n",
    "# numpy.empty method\n",
    "\n",
    "import numpy as geek\n",
    "\n",
    "b = geek.empty(2, dtype = int)\n",
    "print(\"Matrix b : \\n\", b)\n",
    "\n",
    "a = geek.empty([2, 2], dtype = int)\n",
    "print(\"\\nMatrix a : \\n\", a)\n",
    "\n",
    "c = geek.empty([3, 3])\n",
    "print(\"\\nMatrix c : \\n\", c)\n"
   ]
  },
  {
   "cell_type": "code",
   "execution_count": 14,
   "id": "030711a5",
   "metadata": {},
   "outputs": [
    {
     "name": "stdout",
     "output_type": "stream",
     "text": [
      "[[1.13430208e-311 5.58788245e-321 1.13430208e-311 2.96439388e-323]\n",
      " [1.13430208e-311 5.62740771e-321 1.13430208e-311 4.94065646e-323]]\n"
     ]
    }
   ],
   "source": [
    "import numpy as np\n",
    "mat1=np.empty([2, 4])\n",
    "print(mat1)"
   ]
  },
  {
   "cell_type": "code",
   "execution_count": 17,
   "id": "692ab552",
   "metadata": {},
   "outputs": [
    {
     "name": "stdout",
     "output_type": "stream",
     "text": [
      "[[3735606 5439520 6619252]\n",
      " [7340144 7209065 2097255]\n",
      " [2883633 4653088 7209061]]\n"
     ]
    }
   ],
   "source": [
    "import numpy as np\n",
    "mat3=np.empty([3, 3],dtype=int,order=\"c\")\n",
    "print(mat3)"
   ]
  },
  {
   "cell_type": "code",
   "execution_count": 63,
   "id": "c33f615e",
   "metadata": {},
   "outputs": [
    {
     "name": "stdout",
     "output_type": "stream",
     "text": [
      "[0. 0.]\n",
      "[[55 55]\n",
      " [55 55]]\n"
     ]
    }
   ],
   "source": [
    "import numpy as np\n",
    "m1=np.zeros(2)\n",
    "print(m1)\n",
    "m2=np.full([2,2],55)\n",
    "print(m2)"
   ]
  },
  {
   "cell_type": "code",
   "execution_count": 34,
   "id": "1674a396",
   "metadata": {},
   "outputs": [
    {
     "name": "stdout",
     "output_type": "stream",
     "text": [
      "[[ 0  1  2  3  4]\n",
      " [ 5  6  7  8  9]\n",
      " [10 11 12 13 14]\n",
      " [15 16 17 18 19]\n",
      " [20 21 22 23 24]]\n",
      "(5, 5)\n",
      "[[[ 0  1  2  3  4]\n",
      "  [ 5  6  7  8  9]\n",
      "  [10 11 12 13 14]\n",
      "  [15 16 17 18 19]\n",
      "  [20 21 22 23 24]]]\n",
      "y (1, 5, 5)\n",
      "arr1 (5, 1, 5, 1, 1)\n"
     ]
    }
   ],
   "source": [
    "import numpy as np\n",
    "arr=np.arange(5*5).reshape(5,5)\n",
    "print(arr)\n",
    "x=arr.shape\n",
    "print(x)\n",
    "newarr=arr[np.newaxis]\n",
    "print(newarr)\n",
    "y=newarr.shape\n",
    "print(\"y\",y)\n",
    "newaxes=(1,-2,-1)\n",
    "arr1=np.expand_dims(arr,axis=newaxes).shape\n",
    "print(\"arr1\",arr1)"
   ]
  },
  {
   "cell_type": "code",
   "execution_count": 22,
   "id": "e07f938c",
   "metadata": {},
   "outputs": [
    {
     "name": "stdout",
     "output_type": "stream",
     "text": [
      "[[[0 1]\n",
      "  [2 3]]\n",
      "\n",
      " [[4 5]\n",
      "  [6 7]]]\n"
     ]
    }
   ],
   "source": [
    "import numpy as np\n",
    "m8=np.arange(8).reshape([2,2,2])\n",
    "print(m8)"
   ]
  },
  {
   "cell_type": "code",
   "execution_count": 26,
   "id": "8e3479da",
   "metadata": {},
   "outputs": [
    {
     "name": "stdout",
     "output_type": "stream",
     "text": [
      "[ 4  6  8 10 12 14 16 18]\n",
      "[0.         0.22222222 0.44444444 0.66666667 0.88888889 1.11111111\n",
      " 1.33333333 1.55555556 1.77777778 2.        ]\n",
      "[0.         0.22039774 0.42995636 0.6183698  0.77637192 0.8961922\n",
      " 0.9719379  0.99988386 0.9786557  0.90929743]\n"
     ]
    }
   ],
   "source": [
    "import numpy as np\n",
    "m1=np.arange(4,20,2)\n",
    "print(m1)\n",
    "m2=np.linspace(0,2,10)\n",
    "print(m2)\n",
    "print(np.sin(m2))"
   ]
  },
  {
   "cell_type": "code",
   "execution_count": 32,
   "id": "c74b93a0",
   "metadata": {},
   "outputs": [
    {
     "name": "stdout",
     "output_type": "stream",
     "text": [
      "original array \n",
      " [[1 4]\n",
      " [4 5]]\n",
      "\n",
      " [1 4 4 5]\n",
      "[1 4 4 5]\n"
     ]
    }
   ],
   "source": [
    "import numpy as np\n",
    "arr=np.array([[1,4],[4,5]])\n",
    "print(\"original array \\n\", arr)\n",
    "array=arr.flatten(\"C\")\n",
    "print(\"\\n\", array)\n",
    "array1=arr.flatten('F')\n",
    "print(array1)"
   ]
  },
  {
   "cell_type": "code",
   "execution_count": 46,
   "id": "bda01ee2",
   "metadata": {},
   "outputs": [
    {
     "name": "stdout",
     "output_type": "stream",
     "text": [
      "x1: \n",
      " [0.  0.2 0.4 0.6 0.8 1.  1.2 1.4 1.6 1.8]\n",
      "y1: \n",
      " [1. 1. 1. 1. 1. 1. 1. 1. 1. 1.]\n"
     ]
    },
    {
     "data": {
      "image/png": "[encoded data removed]",
      "text/plain": [
       "<Figure size 432x288 with 1 Axes>"
      ]
     },
     "metadata": {
      "needs_background": "light"
     },
     "output_type": "display_data"
    }
   ],
   "source": [
    "import numpy as np\n",
    "import pylab as py\n",
    "x1=np.linspace(0,2,10,endpoint=False)\n",
    "print(\"x1: \\n\", x1)\n",
    "y1=np.ones(10)\n",
    "print(\"y1: \\n\", y1)\n",
    "p1=py.plot(x1,y1,\"*\")\n",
    "p2=py.xlim(0.0,1.9)\n",
    "p3=py.ylim(0.0,1.9)\n",
    "\n"
   ]
  },
  {
   "cell_type": "code",
   "execution_count": 62,
   "id": "7cc98b90",
   "metadata": {},
   "outputs": [
    {
     "name": "stdout",
     "output_type": "stream",
     "text": [
      "\n",
      " [-4. -3. -2. -1.  0.  1.  2.  3.  4.]\n",
      "\n",
      " [-5. -4. -3. -2. -1.  0.  1.  2.  3.  4.  5.]\n",
      "x_1\n",
      " [[-4. -3. -2. -1.  0.  1.  2.  3.  4.]\n",
      " [-4. -3. -2. -1.  0.  1.  2.  3.  4.]\n",
      " [-4. -3. -2. -1.  0.  1.  2.  3.  4.]\n",
      " [-4. -3. -2. -1.  0.  1.  2.  3.  4.]\n",
      " [-4. -3. -2. -1.  0.  1.  2.  3.  4.]\n",
      " [-4. -3. -2. -1.  0.  1.  2.  3.  4.]\n",
      " [-4. -3. -2. -1.  0.  1.  2.  3.  4.]\n",
      " [-4. -3. -2. -1.  0.  1.  2.  3.  4.]\n",
      " [-4. -3. -2. -1.  0.  1.  2.  3.  4.]\n",
      " [-4. -3. -2. -1.  0.  1.  2.  3.  4.]\n",
      " [-4. -3. -2. -1.  0.  1.  2.  3.  4.]]\n",
      "y_1\n",
      " [[-5. -5. -5. -5. -5. -5. -5. -5. -5.]\n",
      " [-4. -4. -4. -4. -4. -4. -4. -4. -4.]\n",
      " [-3. -3. -3. -3. -3. -3. -3. -3. -3.]\n",
      " [-2. -2. -2. -2. -2. -2. -2. -2. -2.]\n",
      " [-1. -1. -1. -1. -1. -1. -1. -1. -1.]\n",
      " [ 0.  0.  0.  0.  0.  0.  0.  0.  0.]\n",
      " [ 1.  1.  1.  1.  1.  1.  1.  1.  1.]\n",
      " [ 2.  2.  2.  2.  2.  2.  2.  2.  2.]\n",
      " [ 3.  3.  3.  3.  3.  3.  3.  3.  3.]\n",
      " [ 4.  4.  4.  4.  4.  4.  4.  4.  4.]\n",
      " [ 5.  5.  5.  5.  5.  5.  5.  5.  5.]]\n"
     ]
    },
    {
     "ename": "TypeError",
     "evalue": "random() takes at most 1 positional argument (2 given)",
     "output_type": "error",
     "traceback": [
      "\u001b[1;31m---------------------------------------------------------------------------\u001b[0m",
      "\u001b[1;31mTypeError\u001b[0m                                 Traceback (most recent call last)",
      "Input \u001b[1;32mIn [62]\u001b[0m, in \u001b[0;36m<cell line: 13>\u001b[1;34m()\u001b[0m\n\u001b[0;32m     10\u001b[0m \u001b[38;5;28mprint\u001b[39m(\u001b[38;5;124m\"\u001b[39m\u001b[38;5;124mx_1\u001b[39m\u001b[38;5;130;01m\\n\u001b[39;00m\u001b[38;5;124m\"\u001b[39m,x_1)\n\u001b[0;32m     11\u001b[0m \u001b[38;5;28mprint\u001b[39m(\u001b[38;5;124m\"\u001b[39m\u001b[38;5;124my_1\u001b[39m\u001b[38;5;130;01m\\n\u001b[39;00m\u001b[38;5;124m\"\u001b[39m,y_1)\n\u001b[1;32m---> 13\u001b[0m random_no\u001b[38;5;241m=\u001b[39m\u001b[43mnp\u001b[49m\u001b[38;5;241;43m.\u001b[39;49m\u001b[43mrandom\u001b[49m\u001b[38;5;241;43m.\u001b[39;49m\u001b[43mrandom\u001b[49m\u001b[43m(\u001b[49m\u001b[38;5;241;43m9\u001b[39;49m\u001b[43m,\u001b[49m\u001b[38;5;241;43m11\u001b[39;49m\u001b[43m)\u001b[49m\n\u001b[0;32m     14\u001b[0m plt\u001b[38;5;241m.\u001b[39mpcolormesh(x_1,y_1,random_no,cmap\u001b[38;5;241m=\u001b[39m\u001b[38;5;124m\"\u001b[39m\u001b[38;5;124mjet\u001b[39m\u001b[38;5;124m\"\u001b[39m)\n\u001b[0;32m     15\u001b[0m plt\u001b[38;5;241m.\u001b[39mcolorbar()\n",
      "File \u001b[1;32mmtrand.pyx:427\u001b[0m, in \u001b[0;36mnumpy.random.mtrand.RandomState.random\u001b[1;34m()\u001b[0m\n",
      "\u001b[1;31mTypeError\u001b[0m: random() takes at most 1 positional argument (2 given)"
     ]
    }
   ],
   "source": [
    "import numpy as np\n",
    "import pylab as plt\n",
    " \n",
    "x1=np.linspace(-4,4,9)\n",
    "print(\"\\n\",x1)\n",
    "y1=np.linspace(-5,5,11)\n",
    "print(\"\\n\",y1)\n",
    "\n",
    "x_1,y_1=np.meshgrid(x1,y1)\n",
    "print(\"x_1\\n\",x_1)\n",
    "print(\"y_1\\n\",y_1)\n",
    "\n",
    "random_no=np.random.random(9,11)\n",
    "plt.pcolormesh(x_1,y_1,random_no,cmap=\"jet\")\n",
    "plt.colorbar()\n",
    "plt.show()"
   ]
  },
  {
   "cell_type": "code",
   "execution_count": 4,
   "id": "73a62195",
   "metadata": {},
   "outputs": [
    {
     "name": "stdout",
     "output_type": "stream",
     "text": [
      "vector1: \n",
      " [1 2 3 4]\n",
      "vector2: \n",
      " [5 6 7 8]\n",
      "addition: \n",
      " [ 6  8 10 12]\n",
      "multiplication: \n",
      " [ 5 12 21 32]\n",
      "subtraction: \n",
      " [4 4 4 4]\n",
      "division: \n",
      " [0.2        0.33333333 0.42857143 0.5       ]\n",
      "dot product: \n",
      " 70\n"
     ]
    }
   ],
   "source": [
    "import numpy as np\n",
    "list1=[1,2,3,4]\n",
    "list2=[5,6,7,8]\n",
    "vector1=np.array(list1)\n",
    "vector2=np.array(list2)\n",
    "addition=vector1+vector2\n",
    "multimplication=vector1*vector2\n",
    "subtaction=vector2-vector1\n",
    "division=vector1/vector2\n",
    "dot=vector1.dot(vector2)\n",
    "print(\"vector1: \\n\",vector1)\n",
    "print(\"vector2: \\n\",vector2)\n",
    "print(\"addition: \\n\",addition)\n",
    "print(\"multiplication: \\n\",multimplication)\n",
    "print(\"subtraction: \\n\",subtaction)\n",
    "print(\"division: \\n\",division)\n",
    "print(\"dot product: \\n\",dot)"
   ]
  },
  {
   "cell_type": "code",
   "execution_count": null,
   "id": "cb39c743",
   "metadata": {},
   "outputs": [],
   "source": []
  }
 ],
 "metadata": {
  "kernelspec": {
   "display_name": "Python 3 (ipykernel)",
   "language": "python",
   "name": "python3"
  },
  "language_info": {
   "codemirror_mode": {
    "name": "ipython",
    "version": 3
   },
   "file_extension": ".py",
   "mimetype": "text/x-python",
   "name": "python",
   "nbconvert_exporter": "python",
   "pygments_lexer": "ipython3",
   "version": "3.9.12"
  }
 },
 "nbformat": 4,
 "nbformat_minor": 5
}
